{
  "nbformat": 4,
  "nbformat_minor": 0,
  "metadata": {
    "colab": {
      "provenance": []
    },
    "kernelspec": {
      "name": "python3",
      "display_name": "Python 3"
    },
    "language_info": {
      "name": "python"
    }
  },
  "cells": [
    {
      "cell_type": "markdown",
      "source": [
        "converts my annotation file (a json file) from Label studio into the CoNLL-2003 format : \"IOB\" format.\n",
        "it extracts the annotated text as well as the coressponding label and converts it into IOB format, i.e:-\n",
        "\n",
        "\"text\"  \"annotation label\"\n",
        "\n",
        "It then checks if the annotated text has any relation/connection with another text block of the same label, and merges them if it exists.\n",
        "\n",
        "it then splits the IOB format data to train, test, and validation splits.\n",
        "\n",
        "this data is then used to fine-tune \"t-ner\" model, based on my labels.\n",
        "\n",
        "the last code block takes in my annotation config file (XML file), which contains all the labels i've used to annotate my data, and creates a dictionary called \"label2id\" which is used as an input variable while fine-tuning t-ner model."
      ],
      "metadata": {
        "id": "X8PM1ofT9BV_"
      }
    },
    {
      "cell_type": "code",
      "source": [
        "import json\n",
        "from bs4 import BeautifulSoup"
      ],
      "metadata": {
        "id": "q47ghhn7s8O6"
      },
      "execution_count": null,
      "outputs": []
    },
    {
      "cell_type": "code",
      "source": [
        "with open('fixed_data.json', 'r') as file:\n",
        "    data = json.load(file)"
      ],
      "metadata": {
        "id": "8U5Ci8b-tH3B"
      },
      "execution_count": null,
      "outputs": []
    },
    {
      "cell_type": "code",
      "source": [
        "def text_to_iob(text, label):\n",
        "    words = text.split()\n",
        "    iob_format = []\n",
        "    for i, word in enumerate(words):\n",
        "        if i == 0:\n",
        "            iob_format.append(f\"{word} B-{label}\")\n",
        "        else:\n",
        "            iob_format.append(f\"{word} I-{label}\")\n",
        "    return iob_format\n",
        "\n"
      ],
      "metadata": {
        "id": "AXbDCxsWtp0Y"
      },
      "execution_count": null,
      "outputs": []
    },
    {
      "cell_type": "code",
      "source": [
        "def merge_related_labels(annotations, relations):\n",
        "    merged_annotations = {}\n",
        "    for annotation in annotations:\n",
        "        if annotation['type'] == 'hypertextlabels':\n",
        "            ann_id = annotation['id']\n",
        "            text = annotation['value']['text']\n",
        "            label = annotation['value']['hypertextlabels'][0]\n",
        "            start_offset = annotation['value']['globalOffsets']['start']\n",
        "            end_offset = annotation['value']['globalOffsets']['end']\n",
        "            if ann_id not in merged_annotations:\n",
        "                merged_annotations[ann_id] = {'text': text, 'label': label, 'start': start_offset, 'end': end_offset}\n",
        "            else:\n",
        "                merged_annotations[ann_id]['text'] += ' ' + text\n",
        "                merged_annotations[ann_id]['end'] = end_offset\n",
        "\n",
        "    for from_id, to_id in relations.items():\n",
        "        if from_id in merged_annotations and to_id in merged_annotations:\n",
        "            if merged_annotations[from_id]['label'] == merged_annotations[to_id]['label']:\n",
        "                merged_annotations[from_id]['text'] += ' ' + merged_annotations[to_id]['text']\n",
        "                merged_annotations[from_id]['end'] = merged_annotations[to_id]['end']\n",
        "                del merged_annotations[to_id]\n",
        "\n",
        "    return merged_annotations"
      ],
      "metadata": {
        "id": "t3dnN62QuENU"
      },
      "execution_count": null,
      "outputs": []
    },
    {
      "cell_type": "code",
      "source": [
        "def tag_with_o(text, annotations):\n",
        "    annotated_ranges = [(ann['start'], ann['end']) for ann in annotations.values()]\n",
        "    annotated_ranges.sort()\n",
        "    current_index = 0\n",
        "    o_tagged_text = []\n",
        "\n",
        "    for start, end in annotated_ranges:\n",
        "        if current_index < start:\n",
        "            o_text = text[current_index:start].split()\n",
        "            o_tagged_text.extend([f\"{word} O\" for word in o_text])\n",
        "        annotated_text = text[start:end]\n",
        "        o_tagged_text.extend(text_to_iob(annotated_text, annotations[start]['label']))\n",
        "        current_index = end\n",
        "\n",
        "    if current_index < len(text):\n",
        "        o_text = text[current_index:].split()\n",
        "        o_tagged_text.extend([f\"{word} O\" for word in o_text])\n",
        "\n",
        "    return o_tagged_text"
      ],
      "metadata": {
        "id": "UCcjBP3BuRVy"
      },
      "execution_count": null,
      "outputs": []
    },
    {
      "cell_type": "code",
      "source": [
        "iob_results = []\n",
        "\n",
        "\n",
        "for item in data:\n",
        "    if 'data' in item and 'html' in item['data']:\n",
        "        html_content = item['data']['html']\n",
        "        soup = BeautifulSoup(html_content, 'lxml')\n",
        "        document_text = soup.get_text()\n",
        "\n",
        "        if 'annotations' in item:\n",
        "            for annotation_set in item['annotations']:\n",
        "                annotations = annotation_set['result']\n",
        "                relations = {rel['from_id']: rel['to_id'] for rel in annotations if rel.get('type') == 'relation'}\n",
        "                merged_annotations = merge_related_labels(annotations, relations)\n",
        "\n",
        "                annotations_by_offset = {ann['start']: ann for ann in merged_annotations.values()}\n",
        "                tagged_text = tag_with_o(document_text, annotations_by_offset)\n",
        "                final_output = []\n",
        "                for line in tagged_text:\n",
        "                    final_output.append(line)\n",
        "                    if line.split()[0].endswith('.'):\n",
        "                        final_output.append('')\n",
        "\n",
        "                iob_results.extend(final_output)\n",
        "                iob_results.append('')"
      ],
      "metadata": {
        "id": "fmN6Ex87ua3d"
      },
      "execution_count": null,
      "outputs": []
    },
    {
      "cell_type": "code",
      "source": [
        "with open('IOB_output.txt', 'w') as outfile:\n",
        "    for pair in iob_results:\n",
        "        outfile.write(pair + '\\n')"
      ],
      "metadata": {
        "id": "5UskMQdUulVk"
      },
      "execution_count": null,
      "outputs": []
    },
    {
      "cell_type": "code",
      "source": [
        "import os\n",
        "\n",
        "def split_text_file(file_path, train_ratio=0.7, validation_ratio=0.15, test_ratio=0.15):\n",
        "\n",
        "\n",
        "  if (train_ratio + validation_ratio + test_ratio)!= 1:\n",
        "    raise ValueError(\"Ratios for train, validation, and test must sum to 1.\")\n",
        "\n",
        "\n",
        "  with open(file_path, 'r') as f:\n",
        "    lines = f.readlines()\n",
        "\n",
        "\n",
        "  total_lines = len(lines)\n",
        "  train_end = int(train_ratio * total_lines)\n",
        "  validation_end = int((train_ratio + validation_ratio) * total_lines)\n",
        "\n",
        "\n",
        "  train_data = lines[:train_end]\n",
        "  validation_data = lines[train_end:validation_end]\n",
        "  test_data = lines[validation_end:]\n",
        "\n",
        "  os.makedirs(\"data\", exist_ok=True)\n",
        "\n",
        "\n",
        "\n",
        "  with open(\"data/train.txt\", 'w') as f:\n",
        "    f.writelines(train_data)\n",
        "\n",
        "  with open(\"data/validation.txt\", 'w') as f:\n",
        "    f.writelines(validation_data)\n",
        "\n",
        "  with open(\"data/test.txt\", 'w') as f:\n",
        "    f.writelines(test_data)\n",
        "\n",
        "  print(\"Text file split into train, validation, and test sets.\")\n",
        "\n",
        "\n",
        "split_text_file(r\"IOB_output.txt\")"
      ],
      "metadata": {
        "colab": {
          "base_uri": "https://localhost:8080/"
        },
        "id": "jJxqpEc4hDWC",
        "outputId": "e4200d12-f739-4b9b-9273-abadbb51f656"
      },
      "execution_count": null,
      "outputs": [
        {
          "output_type": "stream",
          "name": "stdout",
          "text": [
            "Text file split into train, validation, and test sets.\n"
          ]
        }
      ]
    },
    {
      "cell_type": "code",
      "source": [
        "import xml.etree.ElementTree as ET\n",
        "\n",
        "def parse_text(filename):\n",
        "    \"\"\"Parses the text file and returns a list of words.\"\"\"\n",
        "    with open(filename, 'r') as file:\n",
        "        text = file.read()\n",
        "    words = text.split()\n",
        "    return words\n",
        "\n",
        "def create_label2id(filename):\n",
        "    \"\"\"Parses the XML file and creates a label2id dictionary.\"\"\"\n",
        "    tree = ET.parse(filename)\n",
        "    root = tree.getroot()\n",
        "\n",
        "    # Extract labels from the XML\n",
        "    labels = []\n",
        "    for label in root.findall(\".//Label\"):\n",
        "        label_value = label.get('value').replace(' ','')\n",
        "        labels.append(label_value)\n",
        "\n",
        "    label2id = {'O': 0}\n",
        "    idx = 1  # Start from 1 since 0 is already taken by 'O'\n",
        "\n",
        "    for label in labels:\n",
        "        label2id[f'B-{label}'] = idx\n",
        "        idx += 1\n",
        "        label2id[f'I-{label}'] = idx\n",
        "        idx += 1\n",
        "\n",
        "    return label2id\n",
        "create_label2id('deal_terms.xml')"
      ],
      "metadata": {
        "colab": {
          "base_uri": "https://localhost:8080/"
        },
        "id": "DLvYttCVT0jH",
        "outputId": "90f5c006-fcd5-440b-acca-ac3b8213f79f"
      },
      "execution_count": null,
      "outputs": [
        {
          "output_type": "execute_result",
          "data": {
            "text/plain": [
              "{'O': 0,\n",
              " 'B-Date': 1,\n",
              " 'I-Date': 2,\n",
              " 'B-DateType': 3,\n",
              " 'I-DateType': 4,\n",
              " 'B-DealClass': 5,\n",
              " 'I-DealClass': 6,\n",
              " 'B-DealSub-Class': 7,\n",
              " 'I-DealSub-Class': 8,\n",
              " 'B-AmountType': 9,\n",
              " 'I-AmountType': 10,\n",
              " 'B-AmountValue': 11,\n",
              " 'I-AmountValue': 12,\n",
              " 'B-PrincipalofValue': 13,\n",
              " 'I-PrincipalofValue': 14,\n",
              " 'B-FeeType': 15,\n",
              " 'I-FeeType': 16,\n",
              " 'B-FeeValue': 17,\n",
              " 'I-FeeValue': 18,\n",
              " 'B-FeePrincipalofValue': 19,\n",
              " 'I-FeePrincipalofValue': 20,\n",
              " 'B-FeeCondition': 21,\n",
              " 'I-FeeCondition': 22,\n",
              " 'B-LoanAmountType': 23,\n",
              " 'I-LoanAmountType': 24,\n",
              " 'B-LoanAmountValue': 25,\n",
              " 'I-LoanAmountValue': 26,\n",
              " 'B-LoanPrincipalofValue': 27,\n",
              " 'I-LoanPrincipalofValue': 28,\n",
              " 'B-LoanAmountCondition': 29,\n",
              " 'I-LoanAmountCondition': 30,\n",
              " 'B-SpreadIndex': 31,\n",
              " 'I-SpreadIndex': 32,\n",
              " 'B-SpreadType': 33,\n",
              " 'I-SpreadType': 34,\n",
              " 'B-SpreadValue': 35,\n",
              " 'I-SpreadValue': 36,\n",
              " 'B-SpreadCondition': 37,\n",
              " 'I-SpreadCondition': 38}"
            ]
          },
          "metadata": {},
          "execution_count": 37
        }
      ]
    }
  ]
}